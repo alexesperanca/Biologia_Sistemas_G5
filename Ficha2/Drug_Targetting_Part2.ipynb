{
 "cells": [
  {
   "cell_type": "markdown",
   "id": "efe987ef-668d-49fa-b35c-a0a183cca04e",
   "metadata": {},
   "source": [
    "# Exercício B"
   ]
  },
  {
   "cell_type": "code",
   "execution_count": 1,
   "id": "56869bc9-03f8-47be-9d39-6ba7b6bbaad8",
   "metadata": {},
   "outputs": [
    {
     "name": "stdout",
     "output_type": "stream",
     "text": [
      "Scaling...\n",
      " A: min|aij| =  1.000e+00  max|aij| =  1.000e+00  ratio =  1.000e+00\n",
      "Problem data seem to be well scaled\n",
      "Objective\n",
      "=========\n",
      "1.0 BIOMASS_Mtb_9_60atp = 0.05254980100850034\n",
      "\n",
      "Uptake\n",
      "------\n",
      "Metabolite    Reaction      Flux  C-Number C-Flux\n",
      "     fe3_e    EX_fe3_e 7.872E-05         0  0.00%\n",
      "  glc__D_e EX_glc__D_e         1         6 66.67%\n",
      "    glyc_e   EX_glyc_e         1         3 33.33%\n",
      "     nh4_e    EX_nh4_e         1         0  0.00%\n",
      "      o2_e     EX_o2_e         1         0  0.00%\n",
      "      pi_e     EX_pi_e   0.05824         0  0.00%\n",
      "     so4_e    EX_so4_e  0.003389         0  0.00%\n",
      "\n",
      "Secretion\n",
      "---------\n",
      "Metabolite    Reaction    Flux  C-Number C-Flux\n",
      "  glu__L_e EX_glu__L_e -0.6565         5 47.81%\n",
      "      h2_e     EX_h2_e  -1.075         0  0.00%\n",
      "   h2co3_e  EX_h2co3_e -0.9696         1 14.12%\n",
      "     h2o_e    EX_h2o_e  -2.056         0  0.00%\n",
      "       h_e      EX_h_e  -2.601         0  0.00%\n",
      "  lac__L_e EX_lac__L_e -0.7639         3 33.38%\n",
      "    succ_e   EX_succ_e -0.0803         4  4.68%\n",
      "\n"
     ]
    }
   ],
   "source": [
    "import cobra\n",
    "from cobra.io import read_sbml_model\n",
    "from mewpy.simulation import get_simulator\n",
    "\n",
    "model = cobra.io.sbml.read_sbml_model('iNJ661.xml')\n",
    "print(model.summary())"
   ]
  },
  {
   "cell_type": "code",
   "execution_count": 2,
   "id": "7cac9846-7f04-46ad-85c0-0a3292ee140f",
   "metadata": {},
   "outputs": [
    {
     "name": "stdout",
     "output_type": "stream",
     "text": [
      "objective: 0.05254980100850132\n",
      "Status: OPTIMAL\n",
      "Constraints: OrderedDict()\n",
      "Method:FBA\n"
     ]
    }
   ],
   "source": [
    "simul1 = get_simulator(model)\n",
    "result1 = simul1.simulate(method='FBA')\n",
    "print(result1)"
   ]
  },
  {
   "cell_type": "code",
   "execution_count": 3,
   "id": "ec7c1b77-15dc-4812-aa06-06c2b2e66a78",
   "metadata": {},
   "outputs": [
    {
     "name": "stdout",
     "output_type": "stream",
     "text": [
      "Valor Objetivo: 0.05254980100850132\n",
      "------------------------------------------\n",
      "--- Metabolitos Absorvidos\n",
      "------------------------------------------\n",
      "EX_lac__L_e: 0.764\n",
      "EX_h_e: 2.521\n",
      "EX_h2o_e: 1.976\n",
      "EX_h2co3_e: 1.050\n",
      "EX_h2_e: 1.075\n",
      "EX_glu__L_e: 0.657\n",
      "EX_coa_e: 0.000\n",
      "EX_ppa_e: 0.080\n",
      "------------------------------------------\n",
      "--- Metabolitos Excretados\n",
      "------------------------------------------\n",
      "EX_glyc_e: -1.000\n",
      "EX_glc__D_e: -1.000\n",
      "EX_fe3_e: -0.000\n",
      "EX_so4_e: -0.003\n",
      "EX_pi_e: -0.058\n",
      "EX_o2_e: -1.000\n",
      "EX_nh4_e: -1.000\n"
     ]
    }
   ],
   "source": [
    "met_excretados = []\n",
    "met_absorvidos = []\n",
    "for c, v in result1.fluxes.items():\n",
    "    if v < 0 and \"EX_\" in c:\n",
    "        met_excretados.append((c, v))\n",
    "    elif v > 0 and \"EX_\" in c:\n",
    "        met_absorvidos.append((c, v))\n",
    "\n",
    "print(f\"Valor Objetivo: {result1.objective_value}\")\n",
    "print('------------------------------------------')\n",
    "print('--- Metabolitos Absorvidos')\n",
    "print('------------------------------------------')\n",
    "for i in met_absorvidos:\n",
    "    print(f\"{i[0]}: {i[1]:.3f}\")\n",
    "          \n",
    "print('------------------------------------------')\n",
    "print('--- Metabolitos Excretados')\n",
    "print('------------------------------------------')\n",
    "for i in met_excretados:\n",
    "    print(f\"{i[0]}: {i[1]:.3f}\")"
   ]
  },
  {
   "cell_type": "code",
   "execution_count": 4,
   "id": "d4ffd1dc-8248-41cf-a2fc-effc8ce45159",
   "metadata": {},
   "outputs": [
    {
     "name": "stdout",
     "output_type": "stream",
     "text": [
      "objective: 0.3059696982909183\n",
      "Status: OPTIMAL\n",
      "Constraints: OrderedDict([('EX_glc__D_e', (-10, 1000)), ('EX_o2_e', (-10, 1000))])\n",
      "Method:FBA\n"
     ]
    }
   ],
   "source": [
    "envcond = {'EX_glc__D_e': (-10, 1000), 'EX_o2_e':(-10, 1000)}\n",
    "simul2 = get_simulator(model, envcond = envcond)\n",
    "result2 = simul2.simulate(method = 'FBA')\n",
    "\n",
    "print(result2)"
   ]
  },
  {
   "cell_type": "code",
   "execution_count": 5,
   "id": "5b8fe66c-7885-4b0e-9729-89eda3810477",
   "metadata": {},
   "outputs": [
    {
     "name": "stdout",
     "output_type": "stream",
     "text": [
      "Valor Objetivo: 0.3059696982909183\n",
      "------------------------------------------\n",
      "--- Metabolitos Absorvidos\n",
      "------------------------------------------\n",
      "EX_lac__L_e: 2.065\n",
      "EX_h_e: 8.890\n",
      "EX_h2co3_e: 20.865\n",
      "EX_h2_e: 8.108\n",
      "EX_coa_e: 0.000\n",
      "EX_ppa_e: 5.505\n",
      "EX_phdca_e: 0.158\n",
      "EX_pac_e: 1.045\n",
      "------------------------------------------\n",
      "--- Metabolitos Excretados\n",
      "------------------------------------------\n",
      "EX_h2o_e: -0.000\n",
      "EX_glyc_e: -1.000\n",
      "EX_glu__L_e: -1.000\n",
      "EX_glc__D_e: -10.000\n",
      "EX_fe3_e: -0.000\n",
      "EX_so4_e: -0.020\n",
      "EX_pi_e: -0.339\n",
      "EX_o2_e: -10.000\n",
      "EX_nh4_e: -1.000\n"
     ]
    }
   ],
   "source": [
    "met_excretados = []\n",
    "met_absorvidos = []\n",
    "for c, v in result2.fluxes.items():\n",
    "    if v < 0 and \"EX_\" in c:\n",
    "        met_excretados.append((c, v))\n",
    "    elif v > 0 and \"EX_\" in c:\n",
    "        met_absorvidos.append((c, v))\n",
    "        \n",
    "print(f\"Valor Objetivo: {result2.objective_value}\")\n",
    "print('------------------------------------------')\n",
    "print('--- Metabolitos Absorvidos')\n",
    "print('------------------------------------------')\n",
    "for i in met_absorvidos:\n",
    "    print(f\"{i[0]}: {i[1]:.3f}\")\n",
    "          \n",
    "print('------------------------------------------')\n",
    "print('--- Metabolitos Excretados')\n",
    "print('------------------------------------------')\n",
    "for i in met_excretados:\n",
    "    print(f\"{i[0]}: {i[1]:.3f}\")"
   ]
  },
  {
   "cell_type": "markdown",
   "id": "61b84eea-0e9c-4e38-a6c7-8692e92ff87d",
   "metadata": {},
   "source": [
    "## Teste de aumento ainda mais dos compostos para absorver"
   ]
  },
  {
   "cell_type": "code",
   "execution_count": 6,
   "id": "b1d2cac0-d005-4d09-afda-3c048513cdaf",
   "metadata": {},
   "outputs": [
    {
     "name": "stdout",
     "output_type": "stream",
     "text": [
      "objective: 0.3059696982909183\n",
      "Status: OPTIMAL\n",
      "Constraints: OrderedDict([('EX_glc__D_e', (-10, 1000)), ('EX_o2_e', (-10, 1000))])\n",
      "Method:FBA\n"
     ]
    }
   ],
   "source": [
    "envcond = {'EX_glc__D_e': (-20, 1000), 'EX_o2_e':(-20, 1000)}\n",
    "simul3 = get_simulator(model, envcond = envcond)\n",
    "result3 = simul2.simulate(method = 'FBA')\n",
    "\n",
    "print(result3)"
   ]
  },
  {
   "cell_type": "code",
   "execution_count": 7,
   "id": "d3949198-fc27-4feb-9179-a80c05a0b58f",
   "metadata": {},
   "outputs": [
    {
     "name": "stdout",
     "output_type": "stream",
     "text": [
      "Valor Objetivo: 0.3059696982909183\n",
      "------------------------------------------\n",
      "--- Metabolitos Absorvidos\n",
      "------------------------------------------\n",
      "EX_lac__L_e: 2.065\n",
      "EX_h_e: 8.890\n",
      "EX_h2co3_e: 20.865\n",
      "EX_h2_e: 8.108\n",
      "EX_coa_e: 0.000\n",
      "EX_ppa_e: 5.505\n",
      "EX_phdca_e: 0.158\n",
      "EX_pac_e: 1.045\n",
      "------------------------------------------\n",
      "--- Metabolitos Excretados\n",
      "------------------------------------------\n",
      "EX_h2o_e: -0.000\n",
      "EX_glyc_e: -1.000\n",
      "EX_glu__L_e: -1.000\n",
      "EX_glc__D_e: -10.000\n",
      "EX_fe3_e: -0.000\n",
      "EX_so4_e: -0.020\n",
      "EX_pi_e: -0.339\n",
      "EX_o2_e: -10.000\n",
      "EX_nh4_e: -1.000\n"
     ]
    }
   ],
   "source": [
    "met_excretados = []\n",
    "met_absorvidos = []\n",
    "for c, v in result2.fluxes.items():\n",
    "    if v < 0 and \"EX_\" in c:\n",
    "        met_excretados.append((c, v))\n",
    "    elif v > 0 and \"EX_\" in c:\n",
    "        met_absorvidos.append((c, v))\n",
    "        \n",
    "print(f\"Valor Objetivo: {result2.objective_value}\")\n",
    "print('------------------------------------------')\n",
    "print('--- Metabolitos Absorvidos')\n",
    "print('------------------------------------------')\n",
    "for i in met_absorvidos:\n",
    "    print(f\"{i[0]}: {i[1]:.3f}\")\n",
    "          \n",
    "print('------------------------------------------')\n",
    "print('--- Metabolitos Excretados')\n",
    "print('------------------------------------------')\n",
    "for i in met_excretados:\n",
    "    print(f\"{i[0]}: {i[1]:.3f}\")"
   ]
  },
  {
   "cell_type": "markdown",
   "id": "f241f8e1-aa2a-484d-b74e-86a0130747d2",
   "metadata": {},
   "source": [
    "# Exercício C"
   ]
  },
  {
   "cell_type": "code",
   "execution_count": 13,
   "id": "28bc69e2-195c-420d-96ba-5ee1c7927960",
   "metadata": {},
   "outputs": [
    {
     "name": "stdout",
     "output_type": "stream",
     "text": [
      "Nº Reações: 314; Nª de Genes: 188\n",
      "------------------------------------------\n",
      "--- Essential Reactions\n",
      "------------------------------------------\n",
      "['THDPS', 'TDPGDH', 'TDPDRR', 'TDPDRE', 'TDMS4', 'TDMS3', 'TDMS2', 'TDMS1', 'TATSO', 'TATS', 'TAS', 'SULabc', 'SULR', 'PMANM', 'PSSA160', 'PSP_L', 'PSERT', 'PSD160', 'PSCVT', 'PRPPS', 'PHTHS2', 'PHTHS', 'PHTHDLS2', 'PHTHDLS', 'SHSL1', 'PRMICI', 'SHKK', 'PRFGS', 'PHETA1', 'SHK3Dr', 'PREPTHS2', 'PREPTHS', 'PREPPACPH', 'PHDCATA', 'PGSA190', 'PRATPP', 'PGSA160190', 'PGSA160', 'PRASCSi', 'PRAMPC', 'PGPPT3', 'PGPP190', 'PGPP160190', 'PGPP160', 'PRAIi', 'PRAIS', 'PRAGSr', 'PPTGS_TB2', 'PPTGS_TB1', 'PGMT', 'PGLS', 'PPNDH', 'PPND', 'PGCD', 'PGAMT', 'PPDIMAS', 'PDIMAS', 'PPA', 'SERAT', 'SDPTA', 'SDPDS', 'PATS', 'PAPSR', 'PAPPT3', 'SALCS', 'PAPPT2', 'PAPPT1', 'MN6PP', 'RRPPDIMAS', 'RPPDIMAS', 'RPI', 'UDPGALM', 'UDPG4E', 'RNDR3', 'MMM2', 'UDCPDP', 'RNDR2', 'UAPGR', 'UAMRH', 'MME', 'UAMAS', 'RNDR1', 'UAMAGS', 'UAGPT3', 'UAGPT2', 'MI1PS', 'MI1PP', 'UAGPT1', 'UAGDP', 'RBK_Dr', 'UAGCVT', 'UAAGLS2', 'UAAGLS1', 'UAAGDS', 'TYRTA', 'METS', 'METAT', 'MEPCT', 'IPPMIa', 'MECDPS', 'MECDPDH', 'TRESULT', 'TRE6PS', 'TRE6PP', 'IPMD', 'MCOATA', 'TRDR', 'MCBTS3', 'MCBTS', 'MANAT3', 'MANAT1', 'TMHAS4', 'TMHAS3', 'TMHAS2', 'MAN6PI', 'TMHAS1', 'TMDS', 'BIOMASS_Mtb_9_60atp', 'INSH', 'VALTA', 'IMPD', 'UGMDDS2', 'IMPC', 'UGMDDS', 'UGMAS', 'UGMAGS', 'UGLDDS2', 'LEUTA', 'UGLDDS1', 'ILETA', 'UGGPT3', 'UGAGDS', 'KARA2', 'IGPS', 'KARA1', 'IGPDH', 'IG3PS', 'IPPS', 'IPPMIb', 'HSTPT', 'GLUR', 'GLUPRT', 'GLNS', 'GK1', 'GHMT2r', 'GFUCS', 'GF6PTA', 'GARFT', 'EX_glyc_e', 'GALUi', 'GALT', 'GALKr', 'GALFT', 'EX_fe3_e', 'G5SADs', 'G3PAT190', 'G3PAT160', 'G1PTT', 'G1PACT', 'G16MTM9', 'G16MTM8', 'G16MTM7', 'G16MTM6', 'G16MTM5', 'G16MTM4', 'G16MTM10', 'G16MTM1', 'HISTP', 'HISTD', 'FRRPPDIMAS', 'ORPT', 'HCO3E', 'HAS', 'OMPDC', 'OMCDC', 'OCOAT1', 'OCBT', 'O2t', 'O16RHAT', 'NDPK4', 'NDPK2', 'MYC1CYC4', 'MYC1CYC3', 'MYC1CYC2', 'MYC1CYC1', 'MTHFR2', 'MYCSacp58', 'MYCSacp56', 'MYCSacp50', 'MYCON5', 'GRTT', 'MYCON4', 'MYCON3', 'MYCON2', 'MYCON1', 'DXPS', 'DXPRIi', 'MYC2CYC3', 'MYC2CYC2', 'MYC2CYC1', 'GMT2', 'MYC1M2', 'MYC1M1', 'MYC1CYC5', 'GMT1', 'GMPS2', 'DMATT', 'GMAND', 'DHQS', 'DHQTi', 'DHORTS', 'GLYCt', 'CYSTL', 'CYSS', 'DHFR', 'DHDPS', 'DHDPRy', 'DHAD2', 'DHAD1', 'DGK1', 'ATPPRT', 'DDPA', 'ASPTA', 'DASYN190190', 'DASYN160190', 'DASYN160', 'DAPE', 'DAPDC', 'CMCBTFL', 'CLPNS160190', 'ASPK', 'CHRPL', 'CHORS', 'CHORM', 'ASPCT', 'CDPPT160190', 'CDPMEK', 'ASNS1', 'CBPS', 'ASAD', 'BPNT', 'BDH', 'FAMPL5', 'FAMPL4', 'FASm340', 'FAMPL3', 'FAMPL2', 'FAMPL1', 'FASm320', 'FASm300', 'FACOALPHDCA', 'FASm2802', 'FASm2801', 'FASm280', 'FACOAL80', 'FACOAL200', 'FASm2602', 'ARACHTA', 'FASm2601', 'FASm260', 'FASm2402', 'ARABDI', 'FASm2401', 'FASm240', 'FACOAL160', 'FASm2202', 'ARABF', 'FASm2201', 'FASm220', 'FASm2002', 'FASm2001', 'FASm1801', 'FASm180', 'FASm1601', 'FASPHDCA', 'FAS80_L', 'FAS260', 'FAS240_L', 'FAS200', 'FAS180', 'ANS', 'FAS160', 'FAS140', 'EX_so4_e', 'FAS120', 'FAS100', 'ANPRT', 'EX_pi_e', 'ACOTA', 'ACLS', 'EX_o2_e', 'ACHBS', 'ACGK', 'ACGAMT', 'ACChex', 'ACCOAC', 'ACCC', 'ACACT1r', 'AACPS3', 'AACPS11', 'AACPS10', 'ALAR', 'ALAALAr', 'AHCi', 'AGPR', 'AGPAT190', 'AGPAT160190', 'AGPAT160', 'AFTA', 'AFE', 'ADSS', 'ADSL2r', 'ADSL1r', 'ADSK'] \n",
      "\n",
      "\n",
      "------------------------------------------\n",
      "--- Essential Genes\n",
      "------------------------------------------\n",
      "['Rv2051c', 'Rv1201c', 'Rv3396c', 'Rv2156c', 'Rv3266c', 'Rv3465', 'Rv3068c', 'Rv2392', 'Rv0391', 'Rv0500', 'Rv1079', 'Rv2539c', 'Rv2552c', 'Rv2335', 'Rv1338', 'Rv0858c', 'Rv1202', 'Rv2386c', 'Rv1286', 'Rv1692', 'Rv1285', 'Rv2958c', 'Rv2962c', 'Rv1493', 'Rv2465c', 'Rv1492', 'Rv0570', 'Rv0855', 'Rv1981c', 'Rv1878', 'Rv3051c', 'Rv0046c', 'Rv3048c', 'Rv2220', 'Rv2860c', 'Rv2222c', 'Rv1389', 'Rv2124c', 'Rv1392', 'Rv1512', 'Rv3582c', 'Rv3581c', 'Rv3436c', 'Rv0436c', 'Rv0884c', 'Rv2381c', 'Rv0993', 'Rv0437c', 'Rv2383c', 'Rv3227', 'Rv2380c', 'Rv2382c', 'Rv2379c', 'Rv0619', 'Rv1017c', 'Rv2378c', 'Rv2384', 'Rv0618', 'Rv2611c', 'Rv0620', 'Rv3255c', 'Rv3808c', 'Rv1603', 'Rv3264c', 'Rv0788', 'Rv0803', 'Rv2934', 'Rv2932', 'Rv2210c', 'Rv2935', 'Rv2933', 'Rv2931', 'Rv2928', 'Rv1551', 'Rv2122c', 'Rv0780', 'Rv1606', 'Rv0334', 'Rv2157c', 'Rv0809', 'Rv0772', 'Rv2152c', 'Rv2155c', 'Rv2610c', 'Rv2153c', 'Rv2163c', 'Rv2158c', 'Rv3838c', 'Rv2957', 'Rv3754', 'Rv3809c', 'Rv2941', 'Rv2136c', 'Rv0382c', 'Rv0482', 'Rv1653', 'Rv3818', 'Rv1018c', 'Rv3628', 'Rv1315', 'Rv1612', 'Rv1613', 'Rv1385', 'Rv2503c', 'Rv2504c', 'Rv1656', 'Rv3265c', 'Rv3490', 'Rv3372', 'Rv2006', 'Rv3913', 'Rv1699', 'Rv1449c', 'Rv2949c', 'Rv2445c', 'Rv2540c', 'Rv1885c', 'Rv2612c', 'Rv1011', 'Rv1383', 'Rv3001c', 'Rv3710', 'Rv2988c', 'Rv2121c', 'Rv2987c', 'Rv2995c', 'Rv3709c', 'Rv3393', 'Rv1380', 'Rv1843c', 'Rv3410c', 'Rv3411c', 'Rv2246', 'Rv0957', 'Rv2201', 'Rv1611', 'Rv1601', 'Rv3708c', 'Rv2245', 'Rv1605', 'Rv3800c', 'Rv0644c', 'Rv0470c', 'Rv2192c', 'Rv1294', 'Rv2870c', 'Rv3423c', 'Rv2981c', 'Rv1599', 'Rv3398c', 'Rv3248c', 'Rv2538c', 'Rv1652', 'Rv2537c', 'Rv3792', 'Rv3793', 'Rv1381', 'Rv3795', 'Rv2139', 'Rv3794', 'Rv0357c', 'Rv0777', 'Rv2763c', 'Rv2753c', 'Rv2773c', 'Rv0189c', 'Rv1086', 'Rv2178c', 'Rv2940c', 'Rv2881c', 'Rv1662', 'Rv1663', 'Rv2726c', 'Rv2524c', 'Rv1293', 'Rv2947c', 'Rv1350', 'Rv1484', 'Rv1323', 'Rv3801c', 'Rv3340', 'Rv0733', 'Rv1655', 'Rv3002c', 'Rv1654', 'Rv1302', 'Rv3280', 'Rv3815c']\n"
     ]
    }
   ],
   "source": [
    "reac = simul1.essential_reactions()\n",
    "genes = simul1.essential_genes()\n",
    "print(f\"Nº Reações: {len(reac)}; Nª de Genes: {len(genes)}\")\n",
    "print('------------------------------------------')\n",
    "print('--- Essential Reactions')\n",
    "print('------------------------------------------')\n",
    "print(reac, \"\\n\\n\")\n",
    "\n",
    "print('------------------------------------------')\n",
    "print('--- Essential Genes')\n",
    "print('------------------------------------------')\n",
    "print(genes)"
   ]
  }
 ],
 "metadata": {
  "kernelspec": {
   "display_name": "Python 3 (ipykernel)",
   "language": "python",
   "name": "python3"
  },
  "language_info": {
   "codemirror_mode": {
    "name": "ipython",
    "version": 3
   },
   "file_extension": ".py",
   "mimetype": "text/x-python",
   "name": "python",
   "nbconvert_exporter": "python",
   "pygments_lexer": "ipython3",
   "version": "3.9.7"
  }
 },
 "nbformat": 4,
 "nbformat_minor": 5
}
